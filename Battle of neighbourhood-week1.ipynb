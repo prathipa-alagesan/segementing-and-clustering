{
    "cells": [
        {
            "metadata": {},
            "cell_type": "markdown",
            "source": "<h1>Capstone Project - The Battle of Neighborhoods</h1>"
        },
        {
            "metadata": {},
            "cell_type": "markdown",
            "source": "<h3>Introduction/Business Problem</h3>"
        },
        {
            "metadata": {},
            "cell_type": "code",
            "source": "import numpy as np # library to handle data in a vectorized manner\nimport time\nimport pandas as pd # library for data analsysis\npd.set_option('display.max_columns', None)\npd.set_option('display.max_rows', None)\n\nimport json # library to handle JSON files\nimport requests # library to handle requests\nfrom pandas.io.json import json_normalize # tranform JSON file into a pandas dataframe\n\nfrom geopy.geocoders import Nominatim # convert an address into latitude and longitude values\n!conda install -c conda-forge folium=0.5.0 --yes # uncomment this line if you haven't completed the Foursquare API lab\nimport folium # map rendering library\n\nprint('Libraries imported.')",
            "execution_count": 1,
            "outputs": [
                {
                    "output_type": "stream",
                    "text": "Solving environment: done\n\n## Package Plan ##\n\n  environment location: /opt/conda/envs/Python36\n\n  added / updated specs: \n    - folium=0.5.0\n\n\nThe following packages will be downloaded:\n\n    package                    |            build\n    ---------------------------|-----------------\n    altair-4.0.1               |             py_0         575 KB  conda-forge\n    folium-0.5.0               |             py_0          45 KB  conda-forge\n    ca-certificates-2019.11.28 |       hecc5488_0         145 KB  conda-forge\n    openssl-1.1.1d             |       h516909a_0         2.1 MB  conda-forge\n    branca-0.4.0               |             py_0          26 KB  conda-forge\n    certifi-2019.11.28         |           py36_0         149 KB  conda-forge\n    vincent-0.4.4              |             py_1          28 KB  conda-forge\n    ------------------------------------------------------------\n                                           Total:         3.0 MB\n\nThe following NEW packages will be INSTALLED:\n\n    altair:          4.0.1-py_0        conda-forge\n    branca:          0.4.0-py_0        conda-forge\n    folium:          0.5.0-py_0        conda-forge\n    vincent:         0.4.4-py_1        conda-forge\n\nThe following packages will be UPDATED:\n\n    ca-certificates: 2019.11.27-0                  --> 2019.11.28-hecc5488_0 conda-forge\n    certifi:         2019.11.28-py36_0             --> 2019.11.28-py36_0     conda-forge\n\nThe following packages will be DOWNGRADED:\n\n    openssl:         1.1.1d-h7b6447c_3             --> 1.1.1d-h516909a_0     conda-forge\n\n\nDownloading and Extracting Packages\naltair-4.0.1         | 575 KB    | ##################################### | 100% \nfolium-0.5.0         | 45 KB     | ##################################### | 100% \nca-certificates-2019 | 145 KB    | ##################################### | 100% \nopenssl-1.1.1d       | 2.1 MB    | ##################################### | 100% \nbranca-0.4.0         | 26 KB     | ##################################### | 100% \ncertifi-2019.11.28   | 149 KB    | ##################################### | 100% \nvincent-0.4.4        | 28 KB     | ##################################### | 100% \nPreparing transaction: done\nVerifying transaction: done\nExecuting transaction: done\nLibraries imported.\n",
                    "name": "stdout"
                }
            ]
        },
        {
            "metadata": {},
            "cell_type": "markdown",
            "source": "<h1> Introduction section</h1>"
        },
        {
            "metadata": {},
            "cell_type": "markdown",
            "source": " <h2>Scenario:</h2>"
        },
        {
            "metadata": {},
            "cell_type": "markdown",
            "source": "   <h4>I am a data scientist residing in Downtown Singapore. I currently live within walking distance to Downtown Telok Ayer MRT metro station and I enjoy many ammenities and venues in the area, such as various international cousine restaurants, cafes, food shops and entertainment. I have been offered a great opportunity to work for a leader firm in Manhattan, NY. I am very excited and I want to use this opportunity to practice my learnings in Coursera in order to answer relevant questions arisen. The key question is : How can I find a convenient and enjoyable place similar to mine now in Singapore? Certainly, I can use available real estate apps and Google but the idea is to use and apply myself the learned tools during the course. In order to make a comparison and evaluation of the rental options in Manhattan NY, I must set some basis, therefore the apartment in Manhattan must meet the following demands:</h4>"
        },
        {
            "metadata": {},
            "cell_type": "markdown",
            "source": "<ol>\n    <li>apartment must be 2 or 3 bedrooms</li>\n    <li>desired location is near a metro station in the Manhattan area and within 1.0 mile (1.6 km) radius</li>\n    <li>price of rent not exceed $7,000 per month </li>\n    <li>top ammenities in the selected neighborhood shall be similar to current residence</li>\n    <li>desirable to have venues such as coffee shops, restaurants Asian Thai, wine stores, gym and food shops</li>\n    <li>as a reference, I have included a map of venues near current residence in Singapore.</li>\n</ol>"
        },
        {
            "metadata": {},
            "cell_type": "markdown",
            "source": "<h1> Business problem :</h1>"
        },
        {
            "metadata": {},
            "cell_type": "markdown",
            "source": "   <h4>The challenge is to find a suitable apartment for rent in Manhattan NY that complies with the demands on location, price and venues. The data required to resolve this challenge is described in the following section 2, below.</h4>"
        },
        {
            "metadata": {},
            "cell_type": "markdown",
            "source": "   <h4>I believe this is a relevant challenge with valid questions for anyone moving to other large city in US, EU or Asia. The same methodology can be applied in accordance to demands as applicable. This case is also applicable for anyone interested in exploring starting or locating a new business in any city. Lastly, it can also serve as a good practical exercise to develop Data Science skills.</h4>"
        },
        {
            "metadata": {},
            "cell_type": "markdown",
            "source": "<h1> Datasection</h1>"
        },
        {
            "metadata": {},
            "cell_type": "markdown",
            "source": "   <h3>Description of data</h3>"
        },
        {
            "metadata": {},
            "cell_type": "markdown",
            "source": "<ul>\n    <li>List of Boroughs and neighborhoods of Manhattan with their geodata (latitud and longitud)</li>\n    <li>List of Subway metro stations in Manhattan with their address location</li>\n    <li>List of apartments for rent in Manhattan area with their addresses and price</li>\n    <li>Preferably, a list of apartment for rent with additional information, such as price, address, area, # of beds, etc</li>\n    <li>Venues for each Manhattan neighborhood ( than can be clustered)</li>\n    <li>Venues for subway metro stations, as needed</li>\n</ul>"
        },
        {
            "metadata": {},
            "cell_type": "markdown",
            "source": "<h1>How the data will be used to solve the problem</h1>"
        },
        {
            "metadata": {},
            "cell_type": "markdown",
            "source": "<h5>The data will be used as follows</h5>"
        },
        {
            "metadata": {},
            "cell_type": "markdown",
            "source": "<ul>\n    <li>Use Foursquare and geopy data to map top 10 venues for all Manhattan neighborhoods and clustered in groups ( as per Course LAB)</li>\n<li>Use foursquare and geopy data to map the location of subway metro stations , separately and on top of the above clustered map in order to be able to identify the venues and ammenities near each metro station, or explore each subway location separately</li>\n<li>Use Foursquare and geopy data to map the location of rental places, in some form, linked to the subway locations.</li>\n<li>create a map that depicts, for instance, the average rental price per square ft, around a radious of 1.0 mile (1.6 km) around each subway station - or a similar metrics. I will be able to quickly point to the popups to know the relative price per subway area.</li>\n<li>Addresses from rental locations will be converted to geodata( lat, long) using Geopy-distance and Nominatim.</li>\n<li>Data will be searched in open data sources if available, from real estate sites if open to reading, libraries or other government agencies such as Metro New York MTA, etc.</li>\n</ul>"
        },
        {
            "metadata": {},
            "cell_type": "markdown",
            "source": "<h1>2.1 Data of Current Situation</h1>"
        },
        {
            "metadata": {},
            "cell_type": "markdown",
            "source": "<h4>I Currently reside in the neighborhood of 'Mccallum Street' in Downtonw Singapore. I use Foursquare to identify the venues around the area of residence which are then shown in the Singapore map shown in methodology and execution in section 3.0 . It serves as a reference for comparison with the desired future location in Manhattan NY</h4>"
        },
        {
            "metadata": {},
            "cell_type": "markdown",
            "source": "<h1>2.2 Data Required to resolve the problem</h1>"
        },
        {
            "metadata": {},
            "cell_type": "markdown",
            "source": "  <h5>In order to make a good choice of a similar apartment in Manhattan NY, the following data is required: List/Information on neighborhoods form Manhattan with their Geodata ( latitud and longitud. List/Information about the subway metro stations in Manhattan with geodata. Listed apartments for rent in Manhattan area with descriptions ( how many beds, price, location, address) Venues and ammenities in the Manhattan neighborhoods (e.g. top 10) 2.3 sources and manipulation The list of Manhattan neighborhoods is worked out during LAb exercise during the course. A csv file was created which will be read in order to create a dataframe and its mapping. The csv file 'mh_neigh_data.csv' has the following below data structure. The file will be directly read to the Jupiter Notebook for convenience and space savings. The clustering of neighborhoods and mapping will be shown however. An algorythm was used to determine the geodata from Nominatim . The actual algorythm coding may be shown in 'markdown' mode becasues it takes time to run.</h5>     "
        },
        {
            "metadata": {},
            "cell_type": "markdown",
            "source": "<h1>2.3How the data will be used to solve the problem</h1>"
        },
        {
            "metadata": {},
            "cell_type": "markdown",
            "source": "   <h3>The data will be used as follows: Use Foursquare and geopy data to map top 10 venues for all Manhattan neighborhoods and clustered in groups ( as per Course LAB) Use foursquare and geopy data to map the location of subway metro stations , separately and on top of the above clustered map in order to be able to identify the venues and ammenities near each metro station, or explore each subway location separately Use Foursquare and geopy data to map the location of rental places, in some form, linked to the subway locations. create a map that depicts, for instance, the average rental price per square ft, around a radious of 1.0 mile (1.6 km) around each subway station - or a similar metrics. I will be able to quickly point to the popups to know the relative price per subway area. Addresses from rental locations will be converted to geodata( lat, long) using Geopy-distance and Nominatim. Data will be searched in open data sources if available, from real estate sites if open to reading, libraries or other government agencies such as Metro New York MTA, etc.</h3>"
        },
        {
            "metadata": {},
            "cell_type": "markdown",
            "source": "<h1>2.4 Mapping of data </h1>"
        },
        {
            "metadata": {},
            "cell_type": "markdown",
            "source": "   <h3>The following maps were created to facilitate the analysis and the choice of the palace to live. Manhattan map of Neighborhoods manhattan subway metro locations Manhattan map of places for rent Manhattan map of clustered venues and neighborhoods Combined maps of Manhattan rent places with subway locations Combined maps of Manhattan rent places with subway locations and venues clusters</h3>"
        },
        {
            "metadata": {},
            "cell_type": "code",
            "source": "",
            "execution_count": null,
            "outputs": []
        }
    ],
    "metadata": {
        "kernelspec": {
            "name": "python3",
            "display_name": "Python 3.6",
            "language": "python"
        },
        "language_info": {
            "name": "python",
            "version": "3.6.9",
            "mimetype": "text/x-python",
            "codemirror_mode": {
                "name": "ipython",
                "version": 3
            },
            "pygments_lexer": "ipython3",
            "nbconvert_exporter": "python",
            "file_extension": ".py"
        }
    },
    "nbformat": 4,
    "nbformat_minor": 1
}